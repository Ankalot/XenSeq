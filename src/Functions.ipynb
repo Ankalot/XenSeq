{
 "cells": [
  {
   "cell_type": "markdown",
   "metadata": {},
   "source": [
    "# Domain of definition (cents), Gaussian distribution \n",
    "\n",
    "A half-interview with cents:\n",
    "$$ C=[0; 1200) $$\n",
    "\n",
    "Gaussian distribuition with mean $\\mu$ and standart deviation $\\sigma$ with periodicity $g(c) = g(c \\pm 1200)$:\n",
    "$$ g(c, \\mu, \\sigma) = \\cfrac{1}{\\sqrt{2\\pi\\sigma^2}} e^{-\\cfrac{(\n",
    "c - \\mu\n",
    "+ \\llbracket \\mu > 600 \\rrbracket \\llbracket c < \\mu - 600 \\rrbracket 1200 \n",
    "- \\llbracket \\mu < 600 \\rrbracket \\llbracket c > \\mu + 600 \\rrbracket 1200)^2\n",
    "}{2\\sigma^2}}, \\quad c, \\mu, \\sigma \\in C$$"
   ]
  },
  {
   "cell_type": "code",
   "execution_count": null,
   "metadata": {},
   "outputs": [],
   "source": [
    "# cents range\n",
    "C = range(start=0, stop=1200, length=1201)[1:end-1]\n",
    "\n",
    "# gaussian distribution\n",
    "function g(c::Float64, μ::Float64, σ::Float64)\n",
    "    indicator1 = μ > 600 ? 1 : 0\n",
    "    indicator2 = c < μ - 600 ? 1 : 0\n",
    "    indicator4 = c > μ + 600 ? 1 : 0\n",
    "    exponent = -((c - μ + indicator1 * indicator2 * 1200 - (1 - indicator1) * indicator4 * 1200)^2) / (2 * σ^2)\n",
    "    return (1 / sqrt(2 * π * σ^2)) * exp(exponent)\n",
    "end"
   ]
  }
 ],
 "metadata": {
  "kernelspec": {
   "display_name": "Julia 1.10.0",
   "language": "julia",
   "name": "julia-1.10"
  },
  "language_info": {
   "file_extension": ".jl",
   "mimetype": "application/julia",
   "name": "julia",
   "version": "1.10.0"
  }
 },
 "nbformat": 4,
 "nbformat_minor": 2
}
