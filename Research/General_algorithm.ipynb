{
 "cells": [
  {
   "cell_type": "markdown",
   "metadata": {},
   "source": [
    "# abbreviations\n",
    "* PM - Pitch Memory \n",
    "* CE - Categorical Entropy\n",
    "* HE - Harmonic Entropy\n",
    "\n",
    "# Given\n",
    "\n",
    "* We are inside the piano roll.  \n",
    "* Piano roll is divided into scale zones by user.  \n",
    "* Further, all the discussions concern one scale zone.  \n",
    "* For now we will only consider harmonic sounds, all notes for our analysis will be transposed in the cent range $C = [0; 1200)$, \n",
    "an octave is equal to 1200 cents.\n",
    "* There is a set of $n$ played notes (in cents, transposed by octaves to the range $C$)  \n",
    " $\\mathscr{N}=\\{N_1, N_2, ..., N_n\\}$ with numbers of occurance $\\mathscr{O}=\\{O_1, O_2, ..., O_n\\}$.\n",
    "  \n",
    "# Goal\n",
    "\n",
    "Find $N_{suitable} \\subset C$ — set of suitable notes that can be played next, $|N_{suitable}|$ should not be too small or too big.\n",
    "\n",
    "# Algorithm\n",
    "\n",
    "Next note may be (accurate to octave transposition):\n",
    "* From $\\mathscr{N}$\n",
    "    * The user chooses note $N_i$ from $\\mathscr{N}$, but we can help him with his choice by calculating the \"harmonicity/stability\" of a new note in the context of PM at this moment of time.  \n",
    "    $O_{i} = O_{i} + 1$  \n",
    "* New $N_{n+1}$. Then $O_{n+1} = 1$.\n",
    "    1. Use CE to find the appropriate note areas.  \n",
    "        * Using Raw CE.  \n",
    "        * Using Transposition-Invariance CE.  \n",
    "    2. Find the best (or maybe also calculate the worst) sounding notes from note areas by calculating the \"harmonicity/stability\" of a new note in the context of PM at this moment of time.  \n",
    "    \n",
    "The calculation of \"harmonicity/stability\" can be realized using HE, or using a metric on PM.\n",
    "\n",
    "# Useful links\n",
    "* Repo:\n",
    "    * [Pitch Memory (PM)](Pitch_Memory.ipynb)\n",
    "* External:\n",
    "    * https://en.xen.wiki/w/Categorical_Entropy,_Mutual_Information,_and_Channel_Capacity  \n",
    "    * https://en.xen.wiki/w/Harmonic_entropy"
   ]
  }
 ],
 "metadata": {
  "language_info": {
   "name": "python"
  }
 },
 "nbformat": 4,
 "nbformat_minor": 2
}
